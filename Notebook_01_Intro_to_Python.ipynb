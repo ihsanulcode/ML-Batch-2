{
 "cells": [
  {
   "cell_type": "markdown",
   "id": "7ccc9754",
   "metadata": {},
   "source": [
    "# Introduction to Python"
   ]
  },
  {
   "cell_type": "markdown",
   "id": "9b741c0e",
   "metadata": {},
   "source": [
    "## Python Comment"
   ]
  },
  {
   "cell_type": "code",
   "execution_count": 1,
   "id": "f3f36846",
   "metadata": {},
   "outputs": [],
   "source": [
    "# This is a single line comment"
   ]
  },
  {
   "cell_type": "code",
   "execution_count": 2,
   "id": "a79e6349",
   "metadata": {},
   "outputs": [
    {
     "data": {
      "text/plain": [
       "'\\nThis is a\\nmulti line\\ncomment \\nin python\\n'"
      ]
     },
     "execution_count": 2,
     "metadata": {},
     "output_type": "execute_result"
    }
   ],
   "source": [
    "\"\"\"\n",
    "This is a\n",
    "multi line\n",
    "comment \n",
    "in python\n",
    "\"\"\""
   ]
  },
  {
   "cell_type": "markdown",
   "id": "60861fd1",
   "metadata": {},
   "source": [
    "## Python Variables"
   ]
  },
  {
   "cell_type": "code",
   "execution_count": 3,
   "id": "a12727b6",
   "metadata": {},
   "outputs": [],
   "source": [
    "# Assigning values to variables\n",
    "age = 35\n",
    "name = \"Jon Doe\"\n",
    "is_student = True\n",
    "cgpa = 3.33"
   ]
  },
  {
   "cell_type": "markdown",
   "id": "cbf8e0c8",
   "metadata": {},
   "source": [
    "## Python Data Types"
   ]
  },
  {
   "cell_type": "code",
   "execution_count": 4,
   "id": "57fba93c",
   "metadata": {},
   "outputs": [
    {
     "name": "stdout",
     "output_type": "stream",
     "text": [
      "<class 'int'>\n"
     ]
    }
   ],
   "source": [
    "# Integer type\n",
    "num=10\n",
    "print(type(num))"
   ]
  },
  {
   "cell_type": "code",
   "execution_count": 5,
   "id": "83a0b31b",
   "metadata": {},
   "outputs": [
    {
     "name": "stdout",
     "output_type": "stream",
     "text": [
      "<class 'float'>\n"
     ]
    }
   ],
   "source": [
    "# Float type\n",
    "pi = 3.14\n",
    "print(type(pi))"
   ]
  },
  {
   "cell_type": "code",
   "execution_count": 6,
   "id": "8b3c9852",
   "metadata": {},
   "outputs": [
    {
     "name": "stdout",
     "output_type": "stream",
     "text": [
      "<class 'str'>\n"
     ]
    }
   ],
   "source": [
    "# String type\n",
    "str = \"ML\"\n",
    "print(type(str))"
   ]
  },
  {
   "cell_type": "code",
   "execution_count": 7,
   "id": "c0834fec",
   "metadata": {},
   "outputs": [
    {
     "name": "stdout",
     "output_type": "stream",
     "text": [
      "<class 'bool'>\n"
     ]
    }
   ],
   "source": [
    "# boolean type\n",
    "is_true = False\n",
    "print(type(is_true))"
   ]
  },
  {
   "cell_type": "markdown",
   "id": "a6194168",
   "metadata": {},
   "source": [
    "## Python Casting"
   ]
  },
  {
   "cell_type": "code",
   "execution_count": 8,
   "id": "af06a668",
   "metadata": {},
   "outputs": [],
   "source": [
    "#Specify a variable type\n",
    "x = int(1)\n",
    "y = int(2.5)\n",
    "z = int(\"5\")"
   ]
  },
  {
   "cell_type": "code",
   "execution_count": 9,
   "id": "d5f021cf",
   "metadata": {},
   "outputs": [
    {
     "name": "stdout",
     "output_type": "stream",
     "text": [
      "1\n",
      "2\n",
      "5\n"
     ]
    }
   ],
   "source": [
    "print(x)\n",
    "print(y)\n",
    "print(z)"
   ]
  },
  {
   "cell_type": "code",
   "execution_count": 10,
   "id": "cc1d6650",
   "metadata": {},
   "outputs": [
    {
     "name": "stdout",
     "output_type": "stream",
     "text": [
      "<class 'int'>\n",
      "<class 'int'>\n",
      "<class 'int'>\n"
     ]
    }
   ],
   "source": [
    "print(type(x))\n",
    "print(type(y))\n",
    "print(type(z))"
   ]
  },
  {
   "cell_type": "markdown",
   "id": "f1deae2f",
   "metadata": {},
   "source": [
    "## Python Input/Output"
   ]
  },
  {
   "cell_type": "code",
   "execution_count": 11,
   "id": "887290ba",
   "metadata": {},
   "outputs": [
    {
     "name": "stdout",
     "output_type": "stream",
     "text": [
      "jon snow\n",
      "jon snow\n"
     ]
    }
   ],
   "source": [
    "# Taking user input\n",
    "name = input()\n",
    "print(name)"
   ]
  },
  {
   "cell_type": "code",
   "execution_count": 12,
   "id": "d37c41a5",
   "metadata": {},
   "outputs": [
    {
     "name": "stdout",
     "output_type": "stream",
     "text": [
      "Enter your name: ihsanul\n",
      "ihsanul\n"
     ]
    }
   ],
   "source": [
    "# Taking user input\n",
    "name = input(\"Enter your name: \")\n",
    "print(name)"
   ]
  },
  {
   "cell_type": "code",
   "execution_count": 13,
   "id": "37bac4fe",
   "metadata": {},
   "outputs": [
    {
     "name": "stdout",
     "output_type": "stream",
     "text": [
      "Enter any number: 12\n",
      "12\n",
      "<class 'str'>\n"
     ]
    }
   ],
   "source": [
    "# input type\n",
    "number = input(\"Enter any number: \")\n",
    "print(number)\n",
    "print(type(number))"
   ]
  },
  {
   "cell_type": "code",
   "execution_count": 14,
   "id": "516fe155",
   "metadata": {},
   "outputs": [
    {
     "name": "stdout",
     "output_type": "stream",
     "text": [
      "Enter a number: 1\n",
      "<class 'float'>\n",
      "1.0\n"
     ]
    }
   ],
   "source": [
    "# Reading numeric inputs\n",
    "num = float(input(\"Enter a number: \"))\n",
    "print(type(num))\n",
    "print(num)"
   ]
  },
  {
   "cell_type": "code",
   "execution_count": 15,
   "id": "8509f755",
   "metadata": {},
   "outputs": [
    {
     "name": "stdout",
     "output_type": "stream",
     "text": [
      "Enter two number: 2 3\n",
      "2 3\n"
     ]
    }
   ],
   "source": [
    "# Taking multiple inputs in a single line\n",
    "x,y = input(\"Enter two number: \").split()\n",
    "print(x,y)"
   ]
  },
  {
   "cell_type": "markdown",
   "id": "5db55749",
   "metadata": {},
   "source": [
    "## Python Strings"
   ]
  },
  {
   "cell_type": "code",
   "execution_count": 16,
   "id": "132012a2",
   "metadata": {},
   "outputs": [
    {
     "name": "stdout",
     "output_type": "stream",
     "text": [
      "ML ML\n"
     ]
    }
   ],
   "source": [
    "# Single quoted string\n",
    "single = 'ML'\n",
    "# Double quoted string\n",
    "double = \"ML\"\n",
    "\n",
    "print(single,double)"
   ]
  },
  {
   "cell_type": "code",
   "execution_count": 17,
   "id": "0be704f1",
   "metadata": {},
   "outputs": [
    {
     "name": "stdout",
     "output_type": "stream",
     "text": [
      "ML  CSE\n"
     ]
    }
   ],
   "source": [
    "# String concatanation\n",
    "str1 = \"ML\"\n",
    "str2 = \"CSE\"\n",
    "print(str1,'',str2)"
   ]
  },
  {
   "cell_type": "code",
   "execution_count": 18,
   "id": "5b76c95f",
   "metadata": {},
   "outputs": [
    {
     "name": "stdout",
     "output_type": "stream",
     "text": [
      "MLCSE?ML--CSE!"
     ]
    }
   ],
   "source": [
    "print(str1,'',str2,sep='',end='?')\n",
    "print(str1,'',str2,sep='-',end='!')"
   ]
  },
  {
   "cell_type": "code",
   "execution_count": 19,
   "id": "6acbfcd3",
   "metadata": {},
   "outputs": [
    {
     "data": {
      "text/plain": [
       "2"
      ]
     },
     "execution_count": 19,
     "metadata": {},
     "output_type": "execute_result"
    }
   ],
   "source": [
    "# Length\n",
    "len(str1)"
   ]
  },
  {
   "cell_type": "code",
   "execution_count": 20,
   "id": "42ef3df9",
   "metadata": {},
   "outputs": [
    {
     "data": {
      "text/plain": [
       "3"
      ]
     },
     "execution_count": 20,
     "metadata": {},
     "output_type": "execute_result"
    }
   ],
   "source": [
    "# Length\n",
    "len(str2)"
   ]
  },
  {
   "cell_type": "code",
   "execution_count": 21,
   "id": "cd7ae354",
   "metadata": {},
   "outputs": [
    {
     "name": "stdout",
     "output_type": "stream",
     "text": [
      "2\n",
      "3\n"
     ]
    }
   ],
   "source": [
    "print(len(str1))\n",
    "print(len(str2))"
   ]
  },
  {
   "cell_type": "code",
   "execution_count": 22,
   "id": "5198236a",
   "metadata": {},
   "outputs": [
    {
     "data": {
      "text/plain": [
       "3"
      ]
     },
     "execution_count": 22,
     "metadata": {},
     "output_type": "execute_result"
    }
   ],
   "source": [
    "len(str1)\n",
    "len(str2)"
   ]
  },
  {
   "cell_type": "code",
   "execution_count": 23,
   "id": "d4af6a8d",
   "metadata": {},
   "outputs": [
    {
     "name": "stdout",
     "output_type": "stream",
     "text": [
      "1\n",
      "2\n"
     ]
    }
   ],
   "source": [
    "a = 1\n",
    "b = 2\n",
    "print(a)\n",
    "print(b)"
   ]
  },
  {
   "cell_type": "code",
   "execution_count": 24,
   "id": "086b859f",
   "metadata": {},
   "outputs": [
    {
     "data": {
      "text/plain": [
       "2"
      ]
     },
     "execution_count": 24,
     "metadata": {},
     "output_type": "execute_result"
    }
   ],
   "source": [
    "a\n",
    "b"
   ]
  },
  {
   "cell_type": "code",
   "execution_count": 25,
   "id": "fd9ff9b9",
   "metadata": {},
   "outputs": [
    {
     "data": {
      "text/plain": [
       "5"
      ]
     },
     "execution_count": 25,
     "metadata": {},
     "output_type": "execute_result"
    }
   ],
   "source": [
    "x = 5\n",
    "x"
   ]
  },
  {
   "cell_type": "code",
   "execution_count": 26,
   "id": "6388c94f",
   "metadata": {},
   "outputs": [
    {
     "data": {
      "text/plain": [
       "'L'"
      ]
     },
     "execution_count": 26,
     "metadata": {},
     "output_type": "execute_result"
    }
   ],
   "source": [
    "str1 = \"ML\"\n",
    "str1[1]"
   ]
  },
  {
   "cell_type": "code",
   "execution_count": 27,
   "id": "6ed4a550",
   "metadata": {},
   "outputs": [
    {
     "name": "stdout",
     "output_type": "stream",
     "text": [
      "Machi\n",
      "achin\n"
     ]
    }
   ],
   "source": [
    "# String Slicing\n",
    "course_name = \"Machine Learning\"\n",
    "print(course_name[0:5])\n",
    "print(course_name[1:6])"
   ]
  },
  {
   "cell_type": "code",
   "execution_count": 28,
   "id": "65737f8a",
   "metadata": {},
   "outputs": [
    {
     "data": {
      "text/plain": [
       "'MACHINE LEARNING'"
      ]
     },
     "execution_count": 28,
     "metadata": {},
     "output_type": "execute_result"
    }
   ],
   "source": [
    "course_name.upper()"
   ]
  },
  {
   "cell_type": "code",
   "execution_count": 29,
   "id": "bf7b63e2",
   "metadata": {},
   "outputs": [
    {
     "data": {
      "text/plain": [
       "'machine learning'"
      ]
     },
     "execution_count": 29,
     "metadata": {},
     "output_type": "execute_result"
    }
   ],
   "source": [
    "course_name.lower()"
   ]
  },
  {
   "cell_type": "code",
   "execution_count": 30,
   "id": "f00aeb32",
   "metadata": {},
   "outputs": [
    {
     "data": {
      "text/plain": [
       "8"
      ]
     },
     "execution_count": 30,
     "metadata": {},
     "output_type": "execute_result"
    }
   ],
   "source": [
    "course_name.find(\"L\")"
   ]
  },
  {
   "cell_type": "code",
   "execution_count": 31,
   "id": "2cb9a0fd",
   "metadata": {},
   "outputs": [
    {
     "data": {
      "text/plain": [
       "'dsjkfdsgf'"
      ]
     },
     "execution_count": 31,
     "metadata": {},
     "output_type": "execute_result"
    }
   ],
   "source": [
    "test = \"    dsjkfdsgf   \"\n",
    "test.strip()"
   ]
  },
  {
   "cell_type": "markdown",
   "id": "aac0cc3c",
   "metadata": {},
   "source": [
    "## Python Lists"
   ]
  },
  {
   "cell_type": "code",
   "execution_count": 47,
   "id": "1687c70e",
   "metadata": {},
   "outputs": [
    {
     "name": "stdout",
     "output_type": "stream",
     "text": [
      "[]\n",
      "0\n",
      "<class 'list'>\n"
     ]
    }
   ],
   "source": [
    "# Creating an empty list\n",
    "empty_list = []\n",
    "print(empty_list)\n",
    "print(len(empty_list))\n",
    "print(type(empty_list))"
   ]
  },
  {
   "cell_type": "code",
   "execution_count": 49,
   "id": "e3785015",
   "metadata": {},
   "outputs": [
    {
     "name": "stdout",
     "output_type": "stream",
     "text": [
      "[1, 2, 3]\n",
      "['a', 'b', 'c', 'd']\n",
      "[4, 'e', True, 3.14]\n"
     ]
    }
   ],
   "source": [
    "list1 = [1,2,3]\n",
    "list2 = ['a','b','c', 'd']\n",
    "list3 = [4,'e',True, 3.14]\n",
    "\n",
    "print(list1)\n",
    "print(list2)\n",
    "print(list3)"
   ]
  },
  {
   "cell_type": "code",
   "execution_count": 50,
   "id": "b968db0a",
   "metadata": {},
   "outputs": [
    {
     "name": "stdout",
     "output_type": "stream",
     "text": [
      "e\n",
      "c\n"
     ]
    }
   ],
   "source": [
    "# indexing\n",
    "print(list3[1])\n",
    "print(list2[2])"
   ]
  },
  {
   "cell_type": "code",
   "execution_count": 51,
   "id": "630c3921",
   "metadata": {},
   "outputs": [
    {
     "name": "stdout",
     "output_type": "stream",
     "text": [
      "[1, 2, 3, 4]\n",
      "[1, 2, 3]\n",
      "[2, 3, 4]\n",
      "[1, 3, 5]\n"
     ]
    }
   ],
   "source": [
    "# Slicing\n",
    "num = [1,2,3,4,5,6]\n",
    "print(num[0:4])\n",
    "print(num[:3])\n",
    "print(num[1:4])\n",
    "print(num[::2])"
   ]
  },
  {
   "cell_type": "code",
   "execution_count": 53,
   "id": "f03690fe",
   "metadata": {},
   "outputs": [
    {
     "data": {
      "text/plain": [
       "[1, 2, 3, 4, 5, 6, 7, 7]"
      ]
     },
     "execution_count": 53,
     "metadata": {},
     "output_type": "execute_result"
    }
   ],
   "source": [
    "# List operations\n",
    "num.append(7)\n",
    "num"
   ]
  },
  {
   "cell_type": "code",
   "execution_count": 55,
   "id": "7d1b9290",
   "metadata": {},
   "outputs": [
    {
     "data": {
      "text/plain": [
       "[1, 2, 3, 4, 5, 6]"
      ]
     },
     "execution_count": 55,
     "metadata": {},
     "output_type": "execute_result"
    }
   ],
   "source": [
    "num.remove(7)\n",
    "num"
   ]
  },
  {
   "cell_type": "code",
   "execution_count": 56,
   "id": "7c34c154",
   "metadata": {},
   "outputs": [
    {
     "data": {
      "text/plain": [
       "[1, 2, 3, 4, 5, 6, 7, 8]"
      ]
     },
     "execution_count": 56,
     "metadata": {},
     "output_type": "execute_result"
    }
   ],
   "source": [
    "num.extend([7,8])\n",
    "num"
   ]
  },
  {
   "cell_type": "code",
   "execution_count": 57,
   "id": "e5a56355",
   "metadata": {},
   "outputs": [
    {
     "data": {
      "text/plain": [
       "8"
      ]
     },
     "execution_count": 57,
     "metadata": {},
     "output_type": "execute_result"
    }
   ],
   "source": [
    "num.pop()"
   ]
  },
  {
   "cell_type": "code",
   "execution_count": 58,
   "id": "9e046d39",
   "metadata": {},
   "outputs": [
    {
     "data": {
      "text/plain": [
       "[1, 2, 3, 4, 5, 6, 7]"
      ]
     },
     "execution_count": 58,
     "metadata": {},
     "output_type": "execute_result"
    }
   ],
   "source": [
    "num"
   ]
  },
  {
   "cell_type": "code",
   "execution_count": 59,
   "id": "fa61c095",
   "metadata": {},
   "outputs": [
    {
     "data": {
      "text/plain": [
       "7"
      ]
     },
     "execution_count": 59,
     "metadata": {},
     "output_type": "execute_result"
    }
   ],
   "source": [
    "len(num)"
   ]
  },
  {
   "cell_type": "code",
   "execution_count": 60,
   "id": "fe6d3176",
   "metadata": {},
   "outputs": [
    {
     "data": {
      "text/plain": [
       "[7, 6, 5, 4, 3, 2, 1]"
      ]
     },
     "execution_count": 60,
     "metadata": {},
     "output_type": "execute_result"
    }
   ],
   "source": [
    "num.reverse()\n",
    "num"
   ]
  },
  {
   "cell_type": "code",
   "execution_count": 61,
   "id": "c372e2fe",
   "metadata": {},
   "outputs": [
    {
     "data": {
      "text/plain": [
       "[1, 2, 3, 4, 5, 6, 7]"
      ]
     },
     "execution_count": 61,
     "metadata": {},
     "output_type": "execute_result"
    }
   ],
   "source": [
    "num.sort()\n",
    "num"
   ]
  },
  {
   "cell_type": "markdown",
   "id": "18ff2fd7",
   "metadata": {},
   "source": [
    "## For Loop"
   ]
  },
  {
   "cell_type": "code",
   "execution_count": 62,
   "id": "8bd05c64",
   "metadata": {},
   "outputs": [
    {
     "data": {
      "text/plain": [
       "range(0, 3)"
      ]
     },
     "execution_count": 62,
     "metadata": {},
     "output_type": "execute_result"
    }
   ],
   "source": [
    "# Understanding range\n",
    "range(3)"
   ]
  },
  {
   "cell_type": "code",
   "execution_count": 63,
   "id": "1a0a6937",
   "metadata": {},
   "outputs": [
    {
     "data": {
      "text/plain": [
       "range(1, 3)"
      ]
     },
     "execution_count": 63,
     "metadata": {},
     "output_type": "execute_result"
    }
   ],
   "source": [
    "range(1,3)"
   ]
  },
  {
   "cell_type": "code",
   "execution_count": 64,
   "id": "1e8900d0",
   "metadata": {},
   "outputs": [
    {
     "name": "stdout",
     "output_type": "stream",
     "text": [
      "0\n",
      "1\n",
      "2\n",
      "3\n",
      "4\n"
     ]
    }
   ],
   "source": [
    "# For loop syntax\n",
    "for i in range(5):\n",
    "    print(i)"
   ]
  },
  {
   "cell_type": "code",
   "execution_count": 65,
   "id": "e5f520d8",
   "metadata": {},
   "outputs": [
    {
     "name": "stdout",
     "output_type": "stream",
     "text": [
      "0\n",
      "1\n",
      "2\n",
      "3\n",
      "4\n",
      "5\n"
     ]
    }
   ],
   "source": [
    "for i in range(6):\n",
    "    print(i)"
   ]
  },
  {
   "cell_type": "code",
   "execution_count": 67,
   "id": "5bd0314e",
   "metadata": {},
   "outputs": [
    {
     "name": "stdout",
     "output_type": "stream",
     "text": [
      "1\n",
      "2\n",
      "3\n",
      "4\n",
      "5\n"
     ]
    }
   ],
   "source": [
    "for j in range(1,6):\n",
    "    print(j)"
   ]
  },
  {
   "cell_type": "code",
   "execution_count": 68,
   "id": "42df3e33",
   "metadata": {},
   "outputs": [
    {
     "name": "stdout",
     "output_type": "stream",
     "text": [
      "1\n",
      "3\n",
      "5\n",
      "7\n",
      "9\n"
     ]
    }
   ],
   "source": [
    "for i in range(1,11,2):\n",
    "    print(i)"
   ]
  },
  {
   "cell_type": "code",
   "execution_count": 69,
   "id": "7f3dfaa6",
   "metadata": {},
   "outputs": [
    {
     "name": "stdout",
     "output_type": "stream",
     "text": [
      "apple\n",
      "banana\n",
      "cherry\n"
     ]
    }
   ],
   "source": [
    "# Looping with list\n",
    "fruits = ['apple', 'banana', 'cherry']\n",
    "for i in fruits:\n",
    "    print(i)"
   ]
  },
  {
   "cell_type": "code",
   "execution_count": 70,
   "id": "a6c8f5ea",
   "metadata": {},
   "outputs": [
    {
     "name": "stdout",
     "output_type": "stream",
     "text": [
      "Hi!, Jon Doe\n",
      "Hi!, Karim\n",
      "Hi!, Hasan\n",
      "Hi!, Ihsanul\n"
     ]
    }
   ],
   "source": [
    "students = ['Jon Doe', 'Karim', 'Hasan', 'Ihsanul']\n",
    "for name in students:\n",
    "    print('Hi!,',name)"
   ]
  },
  {
   "cell_type": "code",
   "execution_count": 71,
   "id": "ef23fef4",
   "metadata": {},
   "outputs": [
    {
     "name": "stdout",
     "output_type": "stream",
     "text": [
      "Student 0 : Jon Doe\n",
      "Student 1 : Karim\n",
      "Student 2 : Hasan\n",
      "Student 3 : Ihsanul\n"
     ]
    }
   ],
   "source": [
    "# Using Enumeratre with for loop\n",
    "for index, name in enumerate(students):\n",
    "    print('Student',index,':',name)"
   ]
  },
  {
   "cell_type": "code",
   "execution_count": 72,
   "id": "2fef8de7",
   "metadata": {},
   "outputs": [
    {
     "name": "stdout",
     "output_type": "stream",
     "text": [
      "0\n",
      "1\n",
      "2\n",
      "3\n"
     ]
    }
   ],
   "source": [
    "# using len\n",
    "for i in range(len(students)):\n",
    "    print(i)"
   ]
  },
  {
   "cell_type": "code",
   "execution_count": 74,
   "id": "46794c65",
   "metadata": {},
   "outputs": [
    {
     "name": "stdout",
     "output_type": "stream",
     "text": [
      "[22.2, 25.16, 26.23, 23.05]\n"
     ]
    }
   ],
   "source": [
    "# Appending list\n",
    "heights = [1.75, 1.68, 1.80, 1.60]\n",
    "weights = [68, 71, 85, 59]\n",
    "bmi_values = []\n",
    "\n",
    "# Calculation\n",
    "for i in range(len(heights)):\n",
    "    bmi = round(weights[i] / (heights[i] ** 2), 2)\n",
    "    bmi_values.append(bmi)\n",
    "print(bmi_values)"
   ]
  },
  {
   "cell_type": "markdown",
   "id": "37fbf4ff",
   "metadata": {},
   "source": [
    "## While Loop"
   ]
  },
  {
   "cell_type": "code",
   "execution_count": 75,
   "id": "73bbd34c",
   "metadata": {},
   "outputs": [
    {
     "name": "stdout",
     "output_type": "stream",
     "text": [
      "1\n",
      "2\n",
      "3\n",
      "4\n",
      "5\n"
     ]
    }
   ],
   "source": [
    "i = 1\n",
    "while i<=5:\n",
    "    print(i)\n",
    "    i += 1"
   ]
  },
  {
   "cell_type": "markdown",
   "id": "b610516c",
   "metadata": {},
   "source": [
    "## Python Tuples\n",
    "\n",
    "* Ordered\n",
    "* Unchangeable\n",
    "* Allow duplicates\n",
    "* Data typle 'tuple'"
   ]
  },
  {
   "cell_type": "code",
   "execution_count": 76,
   "id": "b6176f73",
   "metadata": {},
   "outputs": [
    {
     "name": "stdout",
     "output_type": "stream",
     "text": [
      "()\n",
      "<class 'tuple'>\n",
      "0\n"
     ]
    }
   ],
   "source": [
    "empty_tup = ()\n",
    "print(empty_tup)\n",
    "print(type(empty_tup))\n",
    "print(len(empty_tup))"
   ]
  },
  {
   "cell_type": "code",
   "execution_count": 77,
   "id": "27c85259",
   "metadata": {},
   "outputs": [
    {
     "name": "stdout",
     "output_type": "stream",
     "text": [
      "(1, 2, 3, True, 'Hi')\n",
      "2\n",
      "True\n"
     ]
    }
   ],
   "source": [
    "# Accessing tuple items\n",
    "my_tuple = (1,2,3,True,'Hi')\n",
    "print(my_tuple)\n",
    "print(my_tuple[1])\n",
    "print(my_tuple[3])"
   ]
  },
  {
   "cell_type": "code",
   "execution_count": 78,
   "id": "329ab8b5",
   "metadata": {},
   "outputs": [
    {
     "name": "stdout",
     "output_type": "stream",
     "text": [
      "1 2 3\n"
     ]
    }
   ],
   "source": [
    "# Unpacking tuple\n",
    "num_tup = (1,2,3)\n",
    "a,b,c = num_tup\n",
    "print(a,b,c)"
   ]
  },
  {
   "cell_type": "code",
   "execution_count": 79,
   "id": "af3208bf",
   "metadata": {},
   "outputs": [
    {
     "data": {
      "text/plain": [
       "(1, 1, 2, 2, 3)"
      ]
     },
     "execution_count": 79,
     "metadata": {},
     "output_type": "execute_result"
    }
   ],
   "source": [
    "# Duplicates\n",
    "tup1 = (1,1,2,2,3)\n",
    "tup1"
   ]
  },
  {
   "cell_type": "code",
   "execution_count": 80,
   "id": "0edd7b9f",
   "metadata": {},
   "outputs": [
    {
     "ename": "TypeError",
     "evalue": "'tuple' object does not support item assignment",
     "output_type": "error",
     "traceback": [
      "\u001b[1;31m---------------------------------------------------------------------------\u001b[0m",
      "\u001b[1;31mTypeError\u001b[0m                                 Traceback (most recent call last)",
      "\u001b[1;32m~\\AppData\\Local\\Temp\\ipykernel_11556\\1490574878.py\u001b[0m in \u001b[0;36m<module>\u001b[1;34m\u001b[0m\n\u001b[0;32m      2\u001b[0m \u001b[0mnum\u001b[0m \u001b[1;33m=\u001b[0m \u001b[1;33m(\u001b[0m\u001b[1;36m1\u001b[0m\u001b[1;33m,\u001b[0m\u001b[1;36m2\u001b[0m\u001b[1;33m,\u001b[0m\u001b[1;36m3\u001b[0m\u001b[1;33m)\u001b[0m\u001b[1;33m\u001b[0m\u001b[1;33m\u001b[0m\u001b[0m\n\u001b[0;32m      3\u001b[0m \u001b[1;31m# Trying to change an item\u001b[0m\u001b[1;33m\u001b[0m\u001b[1;33m\u001b[0m\u001b[0m\n\u001b[1;32m----> 4\u001b[1;33m \u001b[0mnum\u001b[0m\u001b[1;33m[\u001b[0m\u001b[1;36m1\u001b[0m\u001b[1;33m]\u001b[0m \u001b[1;33m=\u001b[0m \u001b[1;36m4\u001b[0m\u001b[1;33m\u001b[0m\u001b[1;33m\u001b[0m\u001b[0m\n\u001b[0m",
      "\u001b[1;31mTypeError\u001b[0m: 'tuple' object does not support item assignment"
     ]
    }
   ],
   "source": [
    "# Immutable nature of tuples\n",
    "num = (1,2,3)\n",
    "# Trying to change an item\n",
    "num[1] = 4"
   ]
  },
  {
   "cell_type": "code",
   "execution_count": 81,
   "id": "d4b168e0",
   "metadata": {},
   "outputs": [
    {
     "ename": "AttributeError",
     "evalue": "'tuple' object has no attribute 'append'",
     "output_type": "error",
     "traceback": [
      "\u001b[1;31m---------------------------------------------------------------------------\u001b[0m",
      "\u001b[1;31mAttributeError\u001b[0m                            Traceback (most recent call last)",
      "\u001b[1;32m~\\AppData\\Local\\Temp\\ipykernel_11556\\454481025.py\u001b[0m in \u001b[0;36m<module>\u001b[1;34m\u001b[0m\n\u001b[0;32m      1\u001b[0m \u001b[1;31m# Trying to add an element\u001b[0m\u001b[1;33m\u001b[0m\u001b[1;33m\u001b[0m\u001b[0m\n\u001b[1;32m----> 2\u001b[1;33m \u001b[0mnum\u001b[0m\u001b[1;33m.\u001b[0m\u001b[0mappend\u001b[0m\u001b[1;33m(\u001b[0m\u001b[1;36m4\u001b[0m\u001b[1;33m)\u001b[0m\u001b[1;33m\u001b[0m\u001b[1;33m\u001b[0m\u001b[0m\n\u001b[0m",
      "\u001b[1;31mAttributeError\u001b[0m: 'tuple' object has no attribute 'append'"
     ]
    }
   ],
   "source": [
    "# Trying to add an element\n",
    "num.append(4)"
   ]
  },
  {
   "cell_type": "markdown",
   "id": "f1312143",
   "metadata": {},
   "source": [
    "## Python Set\n",
    "* Unordered\n",
    "* Unchangebale\n",
    "* Do not allow duplicates\n",
    "* Data type 'set'"
   ]
  },
  {
   "cell_type": "code",
   "execution_count": 82,
   "id": "3059fe7f",
   "metadata": {},
   "outputs": [
    {
     "name": "stdout",
     "output_type": "stream",
     "text": [
      "{1, 2, 3}\n",
      "<class 'set'>\n"
     ]
    }
   ],
   "source": [
    "set1 = {1,2,3}\n",
    "print(set1)\n",
    "print(type(set1))"
   ]
  },
  {
   "cell_type": "code",
   "execution_count": 83,
   "id": "e33bed75",
   "metadata": {},
   "outputs": [
    {
     "name": "stdout",
     "output_type": "stream",
     "text": [
      "False\n",
      "3.14\n",
      "20\n",
      "apple\n",
      "10\n",
      "30\n"
     ]
    }
   ],
   "source": [
    "my_set = {10,20,20,30,'apple', 3.14, False}\n",
    "for item in my_set:\n",
    "    print(item)"
   ]
  },
  {
   "cell_type": "code",
   "execution_count": 84,
   "id": "bc3e7541",
   "metadata": {},
   "outputs": [
    {
     "name": "stdout",
     "output_type": "stream",
     "text": [
      "{1, 2, 3, 4, 54}\n"
     ]
    }
   ],
   "source": [
    "# Checking unchangable\n",
    "# But you can add/remove items\n",
    "my_set1 = {1,2,3,4,54}\n",
    "print(my_set1)"
   ]
  },
  {
   "cell_type": "code",
   "execution_count": 85,
   "id": "cfb6b0f5",
   "metadata": {},
   "outputs": [
    {
     "data": {
      "text/plain": [
       "{1, 2, 3, 4, 10, 54}"
      ]
     },
     "execution_count": 85,
     "metadata": {},
     "output_type": "execute_result"
    }
   ],
   "source": [
    "my_set1.add(10)\n",
    "my_set1"
   ]
  },
  {
   "cell_type": "code",
   "execution_count": 86,
   "id": "2dab51cf",
   "metadata": {},
   "outputs": [
    {
     "ename": "TypeError",
     "evalue": "'set' object does not support item assignment",
     "output_type": "error",
     "traceback": [
      "\u001b[1;31m---------------------------------------------------------------------------\u001b[0m",
      "\u001b[1;31mTypeError\u001b[0m                                 Traceback (most recent call last)",
      "\u001b[1;32m~\\AppData\\Local\\Temp\\ipykernel_11556\\905925308.py\u001b[0m in \u001b[0;36m<module>\u001b[1;34m\u001b[0m\n\u001b[1;32m----> 1\u001b[1;33m \u001b[0mmy_set\u001b[0m\u001b[1;33m[\u001b[0m\u001b[1;36m0\u001b[0m\u001b[1;33m]\u001b[0m \u001b[1;33m=\u001b[0m \u001b[1;36m20\u001b[0m\u001b[1;33m\u001b[0m\u001b[1;33m\u001b[0m\u001b[0m\n\u001b[0m",
      "\u001b[1;31mTypeError\u001b[0m: 'set' object does not support item assignment"
     ]
    }
   ],
   "source": [
    "my_set[0] = 20"
   ]
  },
  {
   "cell_type": "markdown",
   "id": "74de6847",
   "metadata": {},
   "source": [
    "## Python Dictionary\n",
    "* Key : Value pair structure\n",
    "* Ordered (from python version 3.7)\n",
    "* Changable\n",
    "* Do not allow duplicates"
   ]
  },
  {
   "cell_type": "code",
   "execution_count": 87,
   "id": "eca0e57a",
   "metadata": {},
   "outputs": [
    {
     "data": {
      "text/plain": [
       "{'brand': 'BMW', 'model': 'M3', 'year': 1999}"
      ]
     },
     "execution_count": 87,
     "metadata": {},
     "output_type": "execute_result"
    }
   ],
   "source": [
    "car = {\n",
    "    'brand' : 'BMW',\n",
    "    'model' : 'M3',\n",
    "    'year' : 1999\n",
    "}\n",
    "\n",
    "car"
   ]
  },
  {
   "cell_type": "code",
   "execution_count": 88,
   "id": "fcac80b7",
   "metadata": {},
   "outputs": [
    {
     "name": "stdout",
     "output_type": "stream",
     "text": [
      "<class 'dict'>\n"
     ]
    }
   ],
   "source": [
    "print(type(car))"
   ]
  },
  {
   "cell_type": "code",
   "execution_count": 89,
   "id": "a61ae58c",
   "metadata": {},
   "outputs": [
    {
     "name": "stdout",
     "output_type": "stream",
     "text": [
      "BMW\n"
     ]
    }
   ],
   "source": [
    "print(car['brand'])"
   ]
  },
  {
   "cell_type": "code",
   "execution_count": 90,
   "id": "5bb36d7c",
   "metadata": {},
   "outputs": [
    {
     "name": "stdout",
     "output_type": "stream",
     "text": [
      "M3\n"
     ]
    }
   ],
   "source": [
    "print(car['model'])"
   ]
  },
  {
   "cell_type": "code",
   "execution_count": 91,
   "id": "10a32b7c",
   "metadata": {},
   "outputs": [
    {
     "data": {
      "text/plain": [
       "{'name': ['Jon Snow', 'Ihsanul HAque', 'Mark'],\n",
       " 'cgpa': [3.3, 3.1, 3.0],\n",
       " 'address': ['USA', 'Bangladesh', 'UK']}"
      ]
     },
     "execution_count": 91,
     "metadata": {},
     "output_type": "execute_result"
    }
   ],
   "source": [
    "# List values with dict\n",
    "students = {\n",
    "    'name' : ['Jon Snow', \"Ihsanul HAque\", \"Mark\"],\n",
    "    'cgpa' : [3.3, 3.1, 3.0],\n",
    "    'address' : ['USA', 'Bangladesh', 'UK']\n",
    "}\n",
    "\n",
    "students"
   ]
  },
  {
   "cell_type": "code",
   "execution_count": 92,
   "id": "1f5e7e52",
   "metadata": {},
   "outputs": [
    {
     "data": {
      "text/plain": [
       "['Jon Snow', 'Ihsanul HAque', 'Mark']"
      ]
     },
     "execution_count": 92,
     "metadata": {},
     "output_type": "execute_result"
    }
   ],
   "source": [
    "students['name']"
   ]
  },
  {
   "cell_type": "code",
   "execution_count": 93,
   "id": "8d019159",
   "metadata": {},
   "outputs": [
    {
     "name": "stdout",
     "output_type": "stream",
     "text": [
      "Jon Snow\n",
      "Ihsanul HAque\n",
      "Mark\n"
     ]
    }
   ],
   "source": [
    "for name in students['name']:\n",
    "    print(name)"
   ]
  },
  {
   "cell_type": "code",
   "execution_count": 94,
   "id": "f51e76a6",
   "metadata": {},
   "outputs": [],
   "source": [
    "# Add elements to a dict\n",
    "students['major'] = ['Politics', 'BNP', \"BAL\"]"
   ]
  },
  {
   "cell_type": "code",
   "execution_count": 95,
   "id": "09b5e221",
   "metadata": {},
   "outputs": [
    {
     "data": {
      "text/plain": [
       "{'name': ['Jon Snow', 'Ihsanul HAque', 'Mark'],\n",
       " 'cgpa': [3.3, 3.1, 3.0],\n",
       " 'address': ['USA', 'Bangladesh', 'UK'],\n",
       " 'major': ['Politics', 'BNP', 'BAL']}"
      ]
     },
     "execution_count": 95,
     "metadata": {},
     "output_type": "execute_result"
    }
   ],
   "source": [
    "students"
   ]
  },
  {
   "cell_type": "code",
   "execution_count": 96,
   "id": "1b638550",
   "metadata": {},
   "outputs": [],
   "source": [
    "# Removing\n",
    "del students['major']"
   ]
  },
  {
   "cell_type": "code",
   "execution_count": 97,
   "id": "e0cb946e",
   "metadata": {},
   "outputs": [
    {
     "data": {
      "text/plain": [
       "{'name': ['Jon Snow', 'Ihsanul HAque', 'Mark'],\n",
       " 'cgpa': [3.3, 3.1, 3.0],\n",
       " 'address': ['USA', 'Bangladesh', 'UK']}"
      ]
     },
     "execution_count": 97,
     "metadata": {},
     "output_type": "execute_result"
    }
   ],
   "source": [
    "students"
   ]
  },
  {
   "cell_type": "code",
   "execution_count": 98,
   "id": "80a8f7ec",
   "metadata": {},
   "outputs": [],
   "source": [
    "# Dictionary methods\n",
    "key = students.keys()\n",
    "value = students.values()\n",
    "items = students.items()"
   ]
  },
  {
   "cell_type": "code",
   "execution_count": 99,
   "id": "510aa3c2",
   "metadata": {},
   "outputs": [
    {
     "name": "stdout",
     "output_type": "stream",
     "text": [
      "dict_keys(['name', 'cgpa', 'address'])\n"
     ]
    }
   ],
   "source": [
    "print(key)"
   ]
  },
  {
   "cell_type": "code",
   "execution_count": 100,
   "id": "872209bc",
   "metadata": {},
   "outputs": [
    {
     "name": "stdout",
     "output_type": "stream",
     "text": [
      "dict_values([['Jon Snow', 'Ihsanul HAque', 'Mark'], [3.3, 3.1, 3.0], ['USA', 'Bangladesh', 'UK']])\n"
     ]
    }
   ],
   "source": [
    "print(value)"
   ]
  },
  {
   "cell_type": "code",
   "execution_count": 101,
   "id": "3e56f34c",
   "metadata": {},
   "outputs": [
    {
     "name": "stdout",
     "output_type": "stream",
     "text": [
      "dict_items([('name', ['Jon Snow', 'Ihsanul HAque', 'Mark']), ('cgpa', [3.3, 3.1, 3.0]), ('address', ['USA', 'Bangladesh', 'UK'])])\n"
     ]
    }
   ],
   "source": [
    "print(items)"
   ]
  },
  {
   "cell_type": "markdown",
   "id": "cf5f9412",
   "metadata": {},
   "source": [
    "## Conditional Statements"
   ]
  },
  {
   "cell_type": "code",
   "execution_count": 102,
   "id": "43ad02a4",
   "metadata": {},
   "outputs": [
    {
     "name": "stdout",
     "output_type": "stream",
     "text": [
      "a is greater than 5 but not greater than 10\n"
     ]
    }
   ],
   "source": [
    "a = 8\n",
    "if a > 10:\n",
    "    print('a is greater than 10')\n",
    "elif a > 5:\n",
    "    print('a is greater than 5 but not greater than 10')\n",
    "else:\n",
    "    print('a is not greater than 5')"
   ]
  },
  {
   "cell_type": "code",
   "execution_count": 103,
   "id": "2be83562",
   "metadata": {},
   "outputs": [
    {
     "name": "stdout",
     "output_type": "stream",
     "text": [
      "Number is greater than 10\n",
      "Number is also even\n"
     ]
    }
   ],
   "source": [
    "# Nesting if stetements\n",
    "num = 12\n",
    "if num > 10:\n",
    "    print(\"Number is greater than 10\")\n",
    "    if num%2 == 0:\n",
    "        print('Number is also even')\n",
    "    else:\n",
    "        print('Number is not even')\n",
    "else:\n",
    "    print(\"Not greater then 10\")"
   ]
  },
  {
   "cell_type": "markdown",
   "id": "69751c85",
   "metadata": {},
   "source": [
    "## Python Functions"
   ]
  },
  {
   "cell_type": "code",
   "execution_count": 104,
   "id": "93628465",
   "metadata": {},
   "outputs": [
    {
     "name": "stdout",
     "output_type": "stream",
     "text": [
      "Hi there!\n"
     ]
    }
   ],
   "source": [
    "def greet():\n",
    "    print(\"Hi there!\")\n",
    "\n",
    "greet()"
   ]
  },
  {
   "cell_type": "code",
   "execution_count": 105,
   "id": "31e25fa5",
   "metadata": {},
   "outputs": [
    {
     "name": "stdout",
     "output_type": "stream",
     "text": [
      "[22.2, 25.16, 26.23, 23.05]\n"
     ]
    }
   ],
   "source": [
    "# Appending list\n",
    "heights = [1.75, 1.68, 1.80, 1.60]\n",
    "weights = [68, 71, 85, 59]\n",
    "bmi_values = []\n",
    "\n",
    "# Function for calculating BMI\n",
    "def BMI(height, weight):\n",
    "    return round(weights[i] / (heights[i] ** 2), 2)\n",
    "\n",
    "for i in range(len(heights)):\n",
    "    bmi = BMI(heights[i], weights[i])\n",
    "    bmi_values.append(bmi)\n",
    "    \n",
    "print(bmi_values)"
   ]
  },
  {
   "cell_type": "markdown",
   "id": "fc795caa",
   "metadata": {},
   "source": [
    "## Variable Scope"
   ]
  },
  {
   "cell_type": "code",
   "execution_count": 113,
   "id": "e4ed4c3b",
   "metadata": {},
   "outputs": [],
   "source": [
    "# Global var\n",
    "global_var = 10\n",
    "\n",
    "# Function accesing global variable\n",
    "def my_func():\n",
    "    local_var = 5\n",
    "    print(f\"Local variable: {local_var}\")\n",
    "    print('Global variable:', global_var)"
   ]
  },
  {
   "cell_type": "code",
   "execution_count": 114,
   "id": "ceb511e0",
   "metadata": {},
   "outputs": [
    {
     "name": "stdout",
     "output_type": "stream",
     "text": [
      "Local variable: 5\n",
      "Global variable: 10\n"
     ]
    }
   ],
   "source": [
    "my_func()"
   ]
  },
  {
   "cell_type": "code",
   "execution_count": 115,
   "id": "4f80da66",
   "metadata": {},
   "outputs": [
    {
     "ename": "NameError",
     "evalue": "name 'local_var' is not defined",
     "output_type": "error",
     "traceback": [
      "\u001b[1;31m---------------------------------------------------------------------------\u001b[0m",
      "\u001b[1;31mNameError\u001b[0m                                 Traceback (most recent call last)",
      "\u001b[1;32m~\\AppData\\Local\\Temp\\ipykernel_11556\\1413905977.py\u001b[0m in \u001b[0;36m<module>\u001b[1;34m\u001b[0m\n\u001b[0;32m      1\u001b[0m \u001b[1;31m# Trying to access local variable outside the function\u001b[0m\u001b[1;33m\u001b[0m\u001b[1;33m\u001b[0m\u001b[0m\n\u001b[1;32m----> 2\u001b[1;33m \u001b[0mprint\u001b[0m\u001b[1;33m(\u001b[0m\u001b[0mlocal_var\u001b[0m\u001b[1;33m)\u001b[0m\u001b[1;33m\u001b[0m\u001b[1;33m\u001b[0m\u001b[0m\n\u001b[0m",
      "\u001b[1;31mNameError\u001b[0m: name 'local_var' is not defined"
     ]
    }
   ],
   "source": [
    "# Trying to access local variable outside the function\n",
    "print(local_var)"
   ]
  }
 ],
 "metadata": {
  "kernelspec": {
   "display_name": "Python 3 (ipykernel)",
   "language": "python",
   "name": "python3"
  },
  "language_info": {
   "codemirror_mode": {
    "name": "ipython",
    "version": 3
   },
   "file_extension": ".py",
   "mimetype": "text/x-python",
   "name": "python",
   "nbconvert_exporter": "python",
   "pygments_lexer": "ipython3",
   "version": "3.9.13"
  }
 },
 "nbformat": 4,
 "nbformat_minor": 5
}
